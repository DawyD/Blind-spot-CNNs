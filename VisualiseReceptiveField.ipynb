{
 "cells": [
  {
   "cell_type": "markdown",
   "metadata": {},
   "source": [
    "# Visualise receptive field of the blind spot model\n",
    "TF2 version"
   ]
  },
  {
   "cell_type": "code",
   "execution_count": 1,
   "metadata": {},
   "outputs": [],
   "source": [
    "import numpy as np\n",
    "from architecture import get_blindspot_model\n",
    "from tensorflow.keras import backend as K\n",
    "from tensorflow.keras.initializers import Ones, Zeros"
   ]
  },
  {
   "cell_type": "code",
   "execution_count": 2,
   "metadata": {},
   "outputs": [],
   "source": [
    "%matplotlib inline\n",
    "import matplotlib.pyplot as plt"
   ]
  },
  {
   "cell_type": "markdown",
   "metadata": {},
   "source": [
    "### Create a model with kernes of ones and with biases of zero"
   ]
  },
  {
   "cell_type": "code",
   "execution_count": 3,
   "metadata": {},
   "outputs": [],
   "source": [
    "# When using this model, change the initializers to different ones (e.g delete it for the default ones)\n",
    "K.clear_session()\n",
    "input_shape = (32,32,1)\n",
    "model = get_blindspot_model(input_shape, out_channels=1, depth=5, kernel_initializer=Ones, bias_initializer=Zeros)"
   ]
  },
  {
   "cell_type": "code",
   "execution_count": 4,
   "metadata": {},
   "outputs": [
    {
     "output_type": "stream",
     "name": "stdout",
     "text": [
      "Model: \"model\"\n__________________________________________________________________________________________________\nLayer (type)                    Output Shape         Param #     Connected to                     \n==================================================================================================\ninput_1 (InputLayer)            [(None, 32, 32, 1)]  0                                            \n__________________________________________________________________________________________________\nconv2d (Conv2D)                 (None, 32, 32, 128)  1280        input_1[0][0]                    \n__________________________________________________________________________________________________\nleaky_re_lu (LeakyReLU)         (None, 32, 32, 128)  0           conv2d[0][0]                     \n__________________________________________________________________________________________________\nconv2d_1 (Conv2D)               (None, 32, 32, 128)  147584      leaky_re_lu[0][0]                \n__________________________________________________________________________________________________\nleaky_re_lu_1 (LeakyReLU)       (None, 32, 32, 128)  0           conv2d_1[0][0]                   \n__________________________________________________________________________________________________\nconv2d_2 (Conv2D)               (None, 32, 32, 128)  147584      leaky_re_lu_1[0][0]              \n__________________________________________________________________________________________________\nleaky_re_lu_2 (LeakyReLU)       (None, 32, 32, 128)  0           conv2d_2[0][0]                   \n__________________________________________________________________________________________________\nconv2d_3 (Conv2D)               (None, 32, 32, 128)  147584      leaky_re_lu_2[0][0]              \n__________________________________________________________________________________________________\nleaky_re_lu_3 (LeakyReLU)       (None, 32, 32, 128)  0           conv2d_3[0][0]                   \n__________________________________________________________________________________________________\nconv_hole2d (ConvHole2D)        (None, 32, 32, 18)   162         input_1[0][0]                    \n__________________________________________________________________________________________________\nconv_hole2d_1 (ConvHole2D)      (None, 32, 32, 18)   18450       leaky_re_lu[0][0]                \n__________________________________________________________________________________________________\nconv_hole2d_2 (ConvHole2D)      (None, 32, 32, 18)   18450       leaky_re_lu_1[0][0]              \n__________________________________________________________________________________________________\nconv_hole2d_3 (ConvHole2D)      (None, 32, 32, 18)   18450       leaky_re_lu_2[0][0]              \n__________________________________________________________________________________________________\nconv_hole2d_4 (ConvHole2D)      (None, 32, 32, 18)   18450       leaky_re_lu_3[0][0]              \n__________________________________________________________________________________________________\nleaky_re_lu_4 (LeakyReLU)       (None, 32, 32, 18)   0           conv_hole2d[0][0]                \n__________________________________________________________________________________________________\nleaky_re_lu_5 (LeakyReLU)       (None, 32, 32, 18)   0           conv_hole2d_1[0][0]              \n__________________________________________________________________________________________________\nleaky_re_lu_6 (LeakyReLU)       (None, 32, 32, 18)   0           conv_hole2d_2[0][0]              \n__________________________________________________________________________________________________\nleaky_re_lu_7 (LeakyReLU)       (None, 32, 32, 18)   0           conv_hole2d_3[0][0]              \n__________________________________________________________________________________________________\nleaky_re_lu_8 (LeakyReLU)       (None, 32, 32, 18)   0           conv_hole2d_4[0][0]              \n__________________________________________________________________________________________________\nconcatenate (Concatenate)       (None, 32, 32, 90)   0           leaky_re_lu_4[0][0]              \n                                                                 leaky_re_lu_5[0][0]              \n                                                                 leaky_re_lu_6[0][0]              \n                                                                 leaky_re_lu_7[0][0]              \n                                                                 leaky_re_lu_8[0][0]              \n__________________________________________________________________________________________________\nconv2d_4 (Conv2D)               (None, 32, 32, 198)  18018       concatenate[0][0]                \n__________________________________________________________________________________________________\nleaky_re_lu_9 (LeakyReLU)       (None, 32, 32, 198)  0           conv2d_4[0][0]                   \n__________________________________________________________________________________________________\nconv2d_5 (Conv2D)               (None, 32, 32, 99)   19701       leaky_re_lu_9[0][0]              \n__________________________________________________________________________________________________\nleaky_re_lu_10 (LeakyReLU)      (None, 32, 32, 99)   0           conv2d_5[0][0]                   \n__________________________________________________________________________________________________\nconv2d_6 (Conv2D)               (None, 32, 32, 99)   9900        leaky_re_lu_10[0][0]             \n__________________________________________________________________________________________________\nleaky_re_lu_11 (LeakyReLU)      (None, 32, 32, 99)   0           conv2d_6[0][0]                   \n__________________________________________________________________________________________________\nconv2d_7 (Conv2D)               (None, 32, 32, 1)    100         leaky_re_lu_11[0][0]             \n==================================================================================================\nTotal params: 565,713\nTrainable params: 565,713\nNon-trainable params: 0\n__________________________________________________________________________________________________\n"
     ]
    }
   ],
   "source": [
    "model.summary()"
   ]
  },
  {
   "cell_type": "markdown",
   "metadata": {},
   "source": [
    "### Construct a plane with a single point, pass it to the network, and visualise the output (in log scale)"
   ]
  },
  {
   "cell_type": "code",
   "execution_count": 5,
   "metadata": {},
   "outputs": [],
   "source": [
    "plane = np.zeros((1,) + input_shape, np.float32)\n",
    "plane[0, input_shape[0]//2, input_shape[1]//2, 0] = 1\n",
    "\n",
    "rf = model(plane)"
   ]
  },
  {
   "cell_type": "code",
   "execution_count": 6,
   "metadata": {},
   "outputs": [
    {
     "output_type": "execute_result",
     "data": {
      "text/plain": [
       "<matplotlib.image.AxesImage at 0x7f7f04199990>"
      ]
     },
     "metadata": {},
     "execution_count": 6
    },
    {
     "output_type": "display_data",
     "data": {
      "text/plain": "<Figure size 432x288 with 1 Axes>",
      "image/svg+xml": "<?xml version=\"1.0\" encoding=\"utf-8\" standalone=\"no\"?>\n<!DOCTYPE svg PUBLIC \"-//W3C//DTD SVG 1.1//EN\"\n  \"http://www.w3.org/Graphics/SVG/1.1/DTD/svg11.dtd\">\n<!-- Created with matplotlib (https://matplotlib.org/) -->\n<svg height=\"248.919844pt\" version=\"1.1\" viewBox=\"0 0 251.565 248.919844\" width=\"251.565pt\" xmlns=\"http://www.w3.org/2000/svg\" xmlns:xlink=\"http://www.w3.org/1999/xlink\">\n <defs>\n  <style type=\"text/css\">\n*{stroke-linecap:butt;stroke-linejoin:round;}\n  </style>\n </defs>\n <g id=\"figure_1\">\n  <g id=\"patch_1\">\n   <path d=\"M 0 248.919844 \nL 251.565 248.919844 \nL 251.565 0 \nL 0 0 \nz\n\" style=\"fill:none;\"/>\n  </g>\n  <g id=\"axes_1\">\n   <g id=\"patch_2\">\n    <path d=\"M 26.925 225.041719 \nL 244.365 225.041719 \nL 244.365 7.601719 \nL 26.925 7.601719 \nz\n\" style=\"fill:#ffffff;\"/>\n   </g>\n   <g clip-path=\"url(#p062253477a)\">\n    <image height=\"218\" id=\"image0a8ee594da\" transform=\"scale(1 -1)translate(0 -218)\" width=\"218\" x=\"26.925\" xlink:href=\"data:image/png;base64,\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\" y=\"-7.041719\"/>\n   </g>\n   <g id=\"matplotlib.axis_1\">\n    <g id=\"xtick_1\">\n     <g id=\"line2d_1\">\n      <defs>\n       <path d=\"M 0 0 \nL 0 3.5 \n\" id=\"m7b13cb3c61\" style=\"stroke:#000000;stroke-width:0.8;\"/>\n      </defs>\n      <g>\n       <use style=\"stroke:#000000;stroke-width:0.8;\" x=\"30.3225\" xlink:href=\"#m7b13cb3c61\" y=\"225.041719\"/>\n      </g>\n     </g>\n     <g id=\"text_1\">\n      <!-- 0 -->\n      <defs>\n       <path d=\"M 31.78125 66.40625 \nQ 24.171875 66.40625 20.328125 58.90625 \nQ 16.5 51.421875 16.5 36.375 \nQ 16.5 21.390625 20.328125 13.890625 \nQ 24.171875 6.390625 31.78125 6.390625 \nQ 39.453125 6.390625 43.28125 13.890625 \nQ 47.125 21.390625 47.125 36.375 \nQ 47.125 51.421875 43.28125 58.90625 \nQ 39.453125 66.40625 31.78125 66.40625 \nz\nM 31.78125 74.21875 \nQ 44.046875 74.21875 50.515625 64.515625 \nQ 56.984375 54.828125 56.984375 36.375 \nQ 56.984375 17.96875 50.515625 8.265625 \nQ 44.046875 -1.421875 31.78125 -1.421875 \nQ 19.53125 -1.421875 13.0625 8.265625 \nQ 6.59375 17.96875 6.59375 36.375 \nQ 6.59375 54.828125 13.0625 64.515625 \nQ 19.53125 74.21875 31.78125 74.21875 \nz\n\" id=\"DejaVuSans-48\"/>\n      </defs>\n      <g transform=\"translate(27.14125 239.640156)scale(0.1 -0.1)\">\n       <use xlink:href=\"#DejaVuSans-48\"/>\n      </g>\n     </g>\n    </g>\n    <g id=\"xtick_2\">\n     <g id=\"line2d_2\">\n      <g>\n       <use style=\"stroke:#000000;stroke-width:0.8;\" x=\"64.2975\" xlink:href=\"#m7b13cb3c61\" y=\"225.041719\"/>\n      </g>\n     </g>\n     <g id=\"text_2\">\n      <!-- 5 -->\n      <defs>\n       <path d=\"M 10.796875 72.90625 \nL 49.515625 72.90625 \nL 49.515625 64.59375 \nL 19.828125 64.59375 \nL 19.828125 46.734375 \nQ 21.96875 47.46875 24.109375 47.828125 \nQ 26.265625 48.1875 28.421875 48.1875 \nQ 40.625 48.1875 47.75 41.5 \nQ 54.890625 34.8125 54.890625 23.390625 \nQ 54.890625 11.625 47.5625 5.09375 \nQ 40.234375 -1.421875 26.90625 -1.421875 \nQ 22.3125 -1.421875 17.546875 -0.640625 \nQ 12.796875 0.140625 7.71875 1.703125 \nL 7.71875 11.625 \nQ 12.109375 9.234375 16.796875 8.0625 \nQ 21.484375 6.890625 26.703125 6.890625 \nQ 35.15625 6.890625 40.078125 11.328125 \nQ 45.015625 15.765625 45.015625 23.390625 \nQ 45.015625 31 40.078125 35.4375 \nQ 35.15625 39.890625 26.703125 39.890625 \nQ 22.75 39.890625 18.8125 39.015625 \nQ 14.890625 38.140625 10.796875 36.28125 \nz\n\" id=\"DejaVuSans-53\"/>\n      </defs>\n      <g transform=\"translate(61.11625 239.640156)scale(0.1 -0.1)\">\n       <use xlink:href=\"#DejaVuSans-53\"/>\n      </g>\n     </g>\n    </g>\n    <g id=\"xtick_3\">\n     <g id=\"line2d_3\">\n      <g>\n       <use style=\"stroke:#000000;stroke-width:0.8;\" x=\"98.2725\" xlink:href=\"#m7b13cb3c61\" y=\"225.041719\"/>\n      </g>\n     </g>\n     <g id=\"text_3\">\n      <!-- 10 -->\n      <defs>\n       <path d=\"M 12.40625 8.296875 \nL 28.515625 8.296875 \nL 28.515625 63.921875 \nL 10.984375 60.40625 \nL 10.984375 69.390625 \nL 28.421875 72.90625 \nL 38.28125 72.90625 \nL 38.28125 8.296875 \nL 54.390625 8.296875 \nL 54.390625 0 \nL 12.40625 0 \nz\n\" id=\"DejaVuSans-49\"/>\n      </defs>\n      <g transform=\"translate(91.91 239.640156)scale(0.1 -0.1)\">\n       <use xlink:href=\"#DejaVuSans-49\"/>\n       <use x=\"63.623047\" xlink:href=\"#DejaVuSans-48\"/>\n      </g>\n     </g>\n    </g>\n    <g id=\"xtick_4\">\n     <g id=\"line2d_4\">\n      <g>\n       <use style=\"stroke:#000000;stroke-width:0.8;\" x=\"132.2475\" xlink:href=\"#m7b13cb3c61\" y=\"225.041719\"/>\n      </g>\n     </g>\n     <g id=\"text_4\">\n      <!-- 15 -->\n      <g transform=\"translate(125.885 239.640156)scale(0.1 -0.1)\">\n       <use xlink:href=\"#DejaVuSans-49\"/>\n       <use x=\"63.623047\" xlink:href=\"#DejaVuSans-53\"/>\n      </g>\n     </g>\n    </g>\n    <g id=\"xtick_5\">\n     <g id=\"line2d_5\">\n      <g>\n       <use style=\"stroke:#000000;stroke-width:0.8;\" x=\"166.2225\" xlink:href=\"#m7b13cb3c61\" y=\"225.041719\"/>\n      </g>\n     </g>\n     <g id=\"text_5\">\n      <!-- 20 -->\n      <defs>\n       <path d=\"M 19.1875 8.296875 \nL 53.609375 8.296875 \nL 53.609375 0 \nL 7.328125 0 \nL 7.328125 8.296875 \nQ 12.9375 14.109375 22.625 23.890625 \nQ 32.328125 33.6875 34.8125 36.53125 \nQ 39.546875 41.84375 41.421875 45.53125 \nQ 43.3125 49.21875 43.3125 52.78125 \nQ 43.3125 58.59375 39.234375 62.25 \nQ 35.15625 65.921875 28.609375 65.921875 \nQ 23.96875 65.921875 18.8125 64.3125 \nQ 13.671875 62.703125 7.8125 59.421875 \nL 7.8125 69.390625 \nQ 13.765625 71.78125 18.9375 73 \nQ 24.125 74.21875 28.421875 74.21875 \nQ 39.75 74.21875 46.484375 68.546875 \nQ 53.21875 62.890625 53.21875 53.421875 \nQ 53.21875 48.921875 51.53125 44.890625 \nQ 49.859375 40.875 45.40625 35.40625 \nQ 44.1875 33.984375 37.640625 27.21875 \nQ 31.109375 20.453125 19.1875 8.296875 \nz\n\" id=\"DejaVuSans-50\"/>\n      </defs>\n      <g transform=\"translate(159.86 239.640156)scale(0.1 -0.1)\">\n       <use xlink:href=\"#DejaVuSans-50\"/>\n       <use x=\"63.623047\" xlink:href=\"#DejaVuSans-48\"/>\n      </g>\n     </g>\n    </g>\n    <g id=\"xtick_6\">\n     <g id=\"line2d_6\">\n      <g>\n       <use style=\"stroke:#000000;stroke-width:0.8;\" x=\"200.1975\" xlink:href=\"#m7b13cb3c61\" y=\"225.041719\"/>\n      </g>\n     </g>\n     <g id=\"text_6\">\n      <!-- 25 -->\n      <g transform=\"translate(193.835 239.640156)scale(0.1 -0.1)\">\n       <use xlink:href=\"#DejaVuSans-50\"/>\n       <use x=\"63.623047\" xlink:href=\"#DejaVuSans-53\"/>\n      </g>\n     </g>\n    </g>\n    <g id=\"xtick_7\">\n     <g id=\"line2d_7\">\n      <g>\n       <use style=\"stroke:#000000;stroke-width:0.8;\" x=\"234.1725\" xlink:href=\"#m7b13cb3c61\" y=\"225.041719\"/>\n      </g>\n     </g>\n     <g id=\"text_7\">\n      <!-- 30 -->\n      <defs>\n       <path d=\"M 40.578125 39.3125 \nQ 47.65625 37.796875 51.625 33 \nQ 55.609375 28.21875 55.609375 21.1875 \nQ 55.609375 10.40625 48.1875 4.484375 \nQ 40.765625 -1.421875 27.09375 -1.421875 \nQ 22.515625 -1.421875 17.65625 -0.515625 \nQ 12.796875 0.390625 7.625 2.203125 \nL 7.625 11.71875 \nQ 11.71875 9.328125 16.59375 8.109375 \nQ 21.484375 6.890625 26.8125 6.890625 \nQ 36.078125 6.890625 40.9375 10.546875 \nQ 45.796875 14.203125 45.796875 21.1875 \nQ 45.796875 27.640625 41.28125 31.265625 \nQ 36.765625 34.90625 28.71875 34.90625 \nL 20.21875 34.90625 \nL 20.21875 43.015625 \nL 29.109375 43.015625 \nQ 36.375 43.015625 40.234375 45.921875 \nQ 44.09375 48.828125 44.09375 54.296875 \nQ 44.09375 59.90625 40.109375 62.90625 \nQ 36.140625 65.921875 28.71875 65.921875 \nQ 24.65625 65.921875 20.015625 65.03125 \nQ 15.375 64.15625 9.8125 62.3125 \nL 9.8125 71.09375 \nQ 15.4375 72.65625 20.34375 73.4375 \nQ 25.25 74.21875 29.59375 74.21875 \nQ 40.828125 74.21875 47.359375 69.109375 \nQ 53.90625 64.015625 53.90625 55.328125 \nQ 53.90625 49.265625 50.4375 45.09375 \nQ 46.96875 40.921875 40.578125 39.3125 \nz\n\" id=\"DejaVuSans-51\"/>\n      </defs>\n      <g transform=\"translate(227.81 239.640156)scale(0.1 -0.1)\">\n       <use xlink:href=\"#DejaVuSans-51\"/>\n       <use x=\"63.623047\" xlink:href=\"#DejaVuSans-48\"/>\n      </g>\n     </g>\n    </g>\n   </g>\n   <g id=\"matplotlib.axis_2\">\n    <g id=\"ytick_1\">\n     <g id=\"line2d_8\">\n      <defs>\n       <path d=\"M 0 0 \nL -3.5 0 \n\" id=\"med6431d2cb\" style=\"stroke:#000000;stroke-width:0.8;\"/>\n      </defs>\n      <g>\n       <use style=\"stroke:#000000;stroke-width:0.8;\" x=\"26.925\" xlink:href=\"#med6431d2cb\" y=\"10.999219\"/>\n      </g>\n     </g>\n     <g id=\"text_8\">\n      <!-- 0 -->\n      <g transform=\"translate(13.5625 14.798437)scale(0.1 -0.1)\">\n       <use xlink:href=\"#DejaVuSans-48\"/>\n      </g>\n     </g>\n    </g>\n    <g id=\"ytick_2\">\n     <g id=\"line2d_9\">\n      <g>\n       <use style=\"stroke:#000000;stroke-width:0.8;\" x=\"26.925\" xlink:href=\"#med6431d2cb\" y=\"44.974219\"/>\n      </g>\n     </g>\n     <g id=\"text_9\">\n      <!-- 5 -->\n      <g transform=\"translate(13.5625 48.773437)scale(0.1 -0.1)\">\n       <use xlink:href=\"#DejaVuSans-53\"/>\n      </g>\n     </g>\n    </g>\n    <g id=\"ytick_3\">\n     <g id=\"line2d_10\">\n      <g>\n       <use style=\"stroke:#000000;stroke-width:0.8;\" x=\"26.925\" xlink:href=\"#med6431d2cb\" y=\"78.949219\"/>\n      </g>\n     </g>\n     <g id=\"text_10\">\n      <!-- 10 -->\n      <g transform=\"translate(7.2 82.748437)scale(0.1 -0.1)\">\n       <use xlink:href=\"#DejaVuSans-49\"/>\n       <use x=\"63.623047\" xlink:href=\"#DejaVuSans-48\"/>\n      </g>\n     </g>\n    </g>\n    <g id=\"ytick_4\">\n     <g id=\"line2d_11\">\n      <g>\n       <use style=\"stroke:#000000;stroke-width:0.8;\" x=\"26.925\" xlink:href=\"#med6431d2cb\" y=\"112.924219\"/>\n      </g>\n     </g>\n     <g id=\"text_11\">\n      <!-- 15 -->\n      <g transform=\"translate(7.2 116.723437)scale(0.1 -0.1)\">\n       <use xlink:href=\"#DejaVuSans-49\"/>\n       <use x=\"63.623047\" xlink:href=\"#DejaVuSans-53\"/>\n      </g>\n     </g>\n    </g>\n    <g id=\"ytick_5\">\n     <g id=\"line2d_12\">\n      <g>\n       <use style=\"stroke:#000000;stroke-width:0.8;\" x=\"26.925\" xlink:href=\"#med6431d2cb\" y=\"146.899219\"/>\n      </g>\n     </g>\n     <g id=\"text_12\">\n      <!-- 20 -->\n      <g transform=\"translate(7.2 150.698437)scale(0.1 -0.1)\">\n       <use xlink:href=\"#DejaVuSans-50\"/>\n       <use x=\"63.623047\" xlink:href=\"#DejaVuSans-48\"/>\n      </g>\n     </g>\n    </g>\n    <g id=\"ytick_6\">\n     <g id=\"line2d_13\">\n      <g>\n       <use style=\"stroke:#000000;stroke-width:0.8;\" x=\"26.925\" xlink:href=\"#med6431d2cb\" y=\"180.874219\"/>\n      </g>\n     </g>\n     <g id=\"text_13\">\n      <!-- 25 -->\n      <g transform=\"translate(7.2 184.673437)scale(0.1 -0.1)\">\n       <use xlink:href=\"#DejaVuSans-50\"/>\n       <use x=\"63.623047\" xlink:href=\"#DejaVuSans-53\"/>\n      </g>\n     </g>\n    </g>\n    <g id=\"ytick_7\">\n     <g id=\"line2d_14\">\n      <g>\n       <use style=\"stroke:#000000;stroke-width:0.8;\" x=\"26.925\" xlink:href=\"#med6431d2cb\" y=\"214.849219\"/>\n      </g>\n     </g>\n     <g id=\"text_14\">\n      <!-- 30 -->\n      <g transform=\"translate(7.2 218.648437)scale(0.1 -0.1)\">\n       <use xlink:href=\"#DejaVuSans-51\"/>\n       <use x=\"63.623047\" xlink:href=\"#DejaVuSans-48\"/>\n      </g>\n     </g>\n    </g>\n   </g>\n   <g id=\"patch_3\">\n    <path d=\"M 26.925 225.041719 \nL 26.925 7.601719 \n\" style=\"fill:none;stroke:#000000;stroke-linecap:square;stroke-linejoin:miter;stroke-width:0.8;\"/>\n   </g>\n   <g id=\"patch_4\">\n    <path d=\"M 244.365 225.041719 \nL 244.365 7.601719 \n\" style=\"fill:none;stroke:#000000;stroke-linecap:square;stroke-linejoin:miter;stroke-width:0.8;\"/>\n   </g>\n   <g id=\"patch_5\">\n    <path d=\"M 26.925 225.041719 \nL 244.365 225.041719 \n\" style=\"fill:none;stroke:#000000;stroke-linecap:square;stroke-linejoin:miter;stroke-width:0.8;\"/>\n   </g>\n   <g id=\"patch_6\">\n    <path d=\"M 26.925 7.601719 \nL 244.365 7.601719 \n\" style=\"fill:none;stroke:#000000;stroke-linecap:square;stroke-linejoin:miter;stroke-width:0.8;\"/>\n   </g>\n  </g>\n </g>\n <defs>\n  <clipPath id=\"p062253477a\">\n   <rect height=\"217.44\" width=\"217.44\" x=\"26.925\" y=\"7.601719\"/>\n  </clipPath>\n </defs>\n</svg>\n",
      "image/png": "[encoded data removed]"
     },
     "metadata": {
      "needs_background": "light"
     }
    }
   ],
   "source": [
    "if (rf[0, input_shape[0]//2, input_shape[1]//2, 0]) != 0:\n",
    "    print(\"!!!NOT A BLIND SPOT ARCH.!!!\")\n",
    "\n",
    "rf = np.ma.log(rf)\n",
    "rf = rf.filled(rf.min())\n",
    "\n",
    "plt.imshow(rf[0,...,0])"
   ]
  },
  {
   "cell_type": "code",
   "execution_count": null,
   "metadata": {},
   "outputs": [],
   "source": []
  }
 ],
 "metadata": {
  "kernelspec": {
   "display_name": "Python 3",
   "language": "python",
   "name": "python3"
  },
  "language_info": {
   "codemirror_mode": {
    "name": "ipython",
    "version": 3
   },
   "file_extension": ".py",
   "mimetype": "text/x-python",
   "name": "python",
   "nbconvert_exporter": "python",
   "pygments_lexer": "ipython3",
   "version": "3.7.5-final"
  }
 },
 "nbformat": 4,
 "nbformat_minor": 2
}